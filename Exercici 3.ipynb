{
 "metadata": {
  "name": "",
  "signature": "sha256:e6063224a9d34d87d1519dc8dbcf0cf87982c3a956bcdc4630f316a53a34931c"
 },
 "nbformat": 3,
 "nbformat_minor": 0,
 "worksheets": [
  {
   "cells": [
    {
     "cell_type": "code",
     "collapsed": false,
     "input": [
      "import matplotlib.pyplot as plt\n",
      "import numpy as np\n",
      "\n",
      "from __future__ import print_function\n",
      "from ipywidgets import interact, interactive, fixed\n",
      "import ipywidgets as widgets\n",
      "\n",
      "def carSys_unitStepResponse(n,lmbda,b):\n",
      "\n",
      "    print(\"lambda: \", lmbda)\n",
      "    \n",
      "    nd=10\n",
      "    \n",
      "    print(\"b: \", b)\n",
      "    \n",
      "    print(\"d[inf]: \", b/(1-lmbda))\n",
      "    \n",
      "    # This initializes the sequence\n",
      "    d = np.zeros(n)\n",
      "    for i in range(n):\n",
      "        if i <= nd:\n",
      "            d[i] = 0\n",
      "        if i == nd+1:\n",
      "            d[i] = 0+b\n",
      "        if i > nd + 1:\n",
      "            d[i] = lmbda*d[i-1] + b\n",
      "    #no em cal imprimir la grafica. Nomes lultim n per un n molt alt.        \n",
      "    print (d[n-1])\n",
      "    # Plot the sequence\n",
      "    #plt.figure()\n",
      "    #plotSequence(d)\n",
      "    \n",
      "    return\n",
      "\n",
      "# This slider sets the number of samples for the system\n",
      "interact(carSys_unitStepResponse, n=(2,1000,1),lmbda=(0.01,0.99,0.01),b=(0.01,100,0.5))"
     ],
     "language": "python",
     "metadata": {},
     "outputs": []
    }
   ],
   "metadata": {}
  }
 ]
}